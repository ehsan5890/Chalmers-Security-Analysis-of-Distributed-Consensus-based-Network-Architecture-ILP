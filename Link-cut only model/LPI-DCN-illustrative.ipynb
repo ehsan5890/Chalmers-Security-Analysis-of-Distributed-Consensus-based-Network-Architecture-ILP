{
 "cells": [
  {
   "cell_type": "code",
   "execution_count": 2,
   "id": "fb32cb37",
   "metadata": {},
   "outputs": [],
   "source": [
    "from gurobipy import *\n",
    "import math\n",
    "import networkx as nx\n",
    "import matplotlib.pyplot as plt\n",
    "import random\n",
    "import pandas as pd\n",
    "import re"
   ]
  },
  {
   "cell_type": "markdown",
   "id": "7d271ea3",
   "metadata": {},
   "source": [
    "We create the graph with its nodes, edges, and attributes"
   ]
  },
  {
   "cell_type": "code",
   "execution_count": 3,
   "id": "e7e67f2b",
   "metadata": {},
   "outputs": [
    {
     "name": "stdout",
     "output_type": "stream",
     "text": [
      "Graph with 13 nodes and 18 edges\n",
      "[(0, {'S': 0}), (1, {'S': 1}), (2, {'S': 0}), (3, {'S': 1}), (4, {'S': 1}), (5, {'S': 0}), (6, {'S': 0}), (7, {'S': 0}), (8, {'S': 1}), (9, {'S': 1}), (10, {'S': 0}), (11, {'S': 0}), (12, {'S': 0})]\n",
      "[(0, 1), (0, 2), (1, 3), (1, 4), (2, 3), (3, 6), (3, 8), (4, 5), (4, 6), (5, 7), (6, 7), (6, 9), (8, 9), (8, 10), (8, 11), (9, 10), (9, 12), (11, 12)]\n"
     ]
    },
    {
     "data": {
      "image/png": "[encoded data removed]",
      "text/plain": [
       "<Figure size 640x480 with 1 Axes>"
      ]
     },
     "metadata": {},
     "output_type": "display_data"
    }
   ],
   "source": [
    "V=nx.Graph()\n",
    "N=5\n",
    "for k in range(13):\n",
    "    V.add_node(k)\n",
    "V.add_edges_from([(0,1),(0,2),(2,3),(1,3),(1,4),(4,5),(5,7),(3,6),(4,6),(6,7),(3,8),(6,9),(8,9),(8,10),(9,10),(8,11),(9,12),(11,12)])\n",
    "print(V)\n",
    "#13498\n",
    "V.nodes[0]['S']=0\n",
    "V.nodes[1]['S']=1\n",
    "V.nodes[2]['S']=0\n",
    "V.nodes[3]['S']=1\n",
    "V.nodes[4]['S']=1\n",
    "V.nodes[5]['S']=0\n",
    "V.nodes[6]['S']=0\n",
    "V.nodes[7]['S']=0\n",
    "V.nodes[8]['S']=1\n",
    "V.nodes[9]['S']=1\n",
    "V.nodes[10]['S']=0\n",
    "V.nodes[11]['S']=0\n",
    "V.nodes[12]['S']=0\n",
    "print(V.nodes.data())\n",
    "print(V.edges())\n",
    "nx.draw_networkx(V, with_labels=True)"
   ]
  },
  {
   "cell_type": "code",
   "execution_count": 4,
   "id": "c3736c85",
   "metadata": {},
   "outputs": [
    {
     "name": "stdout",
     "output_type": "stream",
     "text": [
      "Set parameter Username\n",
      "Academic license - for non-commercial use only - expires 2024-11-29\n"
     ]
    },
    {
     "data": {
      "text/plain": [
       "<gurobi.Constr *Awaiting Model Update*>"
      ]
     },
     "execution_count": 4,
     "metadata": {},
     "output_type": "execute_result"
    }
   ],
   "source": [
    "nw_mod=Model(name=\"nw\")\n",
    "N=5\n",
    "\n",
    "C=100\n",
    "c=10\n",
    "\n",
    "\n",
    "delta_ij = nw_mod.addVars(V.number_of_nodes(),V.number_of_nodes(),name='delta_{i}_{j}',vtype=GRB.BINARY)\n",
    "x=nw_mod.addVars(V.number_of_nodes(),name='x',vtype=GRB.BINARY)\n",
    "y=nw_mod.addVars(V.number_of_nodes(),name='y',vtype=GRB.BINARY)\n",
    "z=nw_mod.addVars(V.number_of_nodes(),name='z',vtype=GRB.BINARY)\n",
    "\n",
    "obj_fun=sum(c*delta_ij[i,j] for i,j in V.edges())\n",
    "nw_mod.setObjective(obj_fun, GRB.MINIMIZE)\n",
    "\n",
    "for i in V.nodes():\n",
    "    nw_mod.addConstr(x[i] + y[i] + z[i] == 1, 'constraint_one_subd{i}')\n",
    "    \n",
    "#nw_mod.addConstr(sum(V.nodes[i]['S'] * x[i] for i in V.nodes()) <= (math.floor(N/2)) - 1, 'constraint_sum_S_x')\n",
    "#nw_mod.addConstr(sum(V.nodes[i]['S'] * y[i] for i in V.nodes()) <= (math.floor(N/2)) - 1, 'constraint_sum_S_y')\n",
    "#nw_mod.addConstr(sum(V.nodes[i]['S'] * z[i] for i in V.nodes()) <= (math.floor(N/2)) - 1, 'constraint_sum_S_z')\n",
    "\n",
    "nw_mod.addConstr(sum(V.nodes[i]['S'] * x[i] for i in V.nodes()) <= (math.ceil(N/2)) - 1, 'constraint_sum_S_x')\n",
    "nw_mod.addConstr(sum(V.nodes[i]['S'] * y[i] for i in V.nodes()) <= (math.ceil(N/2)) - 1, 'constraint_sum_S_y')\n",
    "nw_mod.addConstr(sum(V.nodes[i]['S'] * z[i] for i in V.nodes()) <= (math.ceil(N/2)) - 1, 'constraint_sum_S_z')\n",
    "\n",
    "#nw_mod.addConstr(sum(x[i] for i in V.nodes())>=sum(y[i] for i in V.nodes()),'constraint_max_x')\n",
    "#nw_mod.addConstr(sum(y[i] for i in V.nodes())>=sum(z[i] for i in V.nodes()),'constraint_max_y')\n",
    "\n",
    "#nw_mod.addConstr(sum(x[i] for i in V.nodes())>=sum(y[i] for i in V.nodes())+sum(z[i] for i in V.nodes()),'constraint_max_x')\n",
    "\n",
    "#nw_mod.addConstr(sum(int(V.nodes[i]['S']) * x[i] for i in V.nodes()) <= (math.floor(N/2)) - 1, 'constraint_sum_S_x')\n",
    "#nw_mod.addConstr(sum(int(V.nodes[i]['S']) * y[i] for i in V.nodes()) <= (math.floor(N/2)) - 1, 'constraint_sum_S_y')\n",
    "#nw_mod.addConstr(sum(int(V.nodes[i]['S']) * z[i] for i in V.nodes()) <= (math.floor(N/2)) - 1, 'constraint_sum_S_z')\n"
   ]
  },
  {
   "cell_type": "code",
   "execution_count": 5,
   "id": "0e4c7956",
   "metadata": {},
   "outputs": [],
   "source": [
    "'''for i in V.nodes():\n",
    "    for j in V.nodes():\n",
    "        if V.has_edge(i,j)\n",
    "                nw_mod.addConstr(delta_ij[i,j] <= 2 - x[i] - x[j], 'constraint_delta_ij_x_{i}_{j}_same_x ') \n",
    "                nw_mod.addConstr(delta_ij[i,j] <= 2 - y[i] - y[j], 'constraint_delta_ij_x_{i}_{j}_same_y ')\n",
    "                nw_mod.addConstr(delta_ij[i,j] <= 2 - x[i] - z[j], 'constraint_delta_ij_x_{i}_{j}_same_z ')\n",
    "                nw_mod.addConstr(delta_ij[i,j] >= x[i] - x[j], 'constraint_delta_ij_x_{i}_{j}_not_same_x ')\n",
    "                nw_mod.addConstr(delta_ij[i,j] >= y[i] - y[j], 'constraint_delta_ij_x_{i}_{j}_not_same_y ')\n",
    "                nw_mod.addConstr(delta_ij[i,j] >= z[i] - z[j], 'constraint_delta_ij_x_{i}_{j}_not_same_z ')\n",
    "'''\n",
    "for i, j in V.edges():\n",
    "    nw_mod.addConstr(delta_ij[i, j] <= 2 - x[i] - x[j], f'constraint_delta_ij_x_{i}_{j}_same_x')\n",
    "    nw_mod.addConstr(delta_ij[j, i] <= 2 - x[i] - x[j], f'constraint_delta_ij_x_{i}_{j}_same_x_2')\n",
    "    nw_mod.addConstr(delta_ij[i, j] <= 2 - y[i] - y[j], f'constraint_delta_ij_x_{i}_{j}_same_y')\n",
    "    nw_mod.addConstr(delta_ij[j, i] <= 2 - y[i] - y[j], f'constraint_delta_ij_x_{i}_{j}_same_y_2')\n",
    "    nw_mod.addConstr(delta_ij[i, j] <= 2 - z[i] - z[j], f'constraint_delta_ij_x_{i}_{j}_same_z')\n",
    "    nw_mod.addConstr(delta_ij[j, i] <= 2 - z[i] - z[j], f'constraint_delta_ij_x_{i}_{j}_same_z_2')\n",
    "    nw_mod.addConstr(delta_ij[i, j] >= x[i] - x[j], f'constraint_delta_ij_x_{i}_{j}_not_same_x')\n",
    "    nw_mod.addConstr(delta_ij[j, i] >= x[i] - x[j], f'constraint_delta_ij_x_{i}_{j}_not_same_x_2')\n",
    "    nw_mod.addConstr(delta_ij[i, j] >= y[i] - y[j], f'constraint_delta_ij_x_{i}_{j}_not_same_y')\n",
    "    nw_mod.addConstr(delta_ij[j, i] >= y[i] - y[j], f'constraint_delta_ij_x_{i}_{j}_not_same_y_2')\n",
    "    nw_mod.addConstr(delta_ij[i, j] >= z[i] - z[j], f'constraint_delta_ij_x_{i}_{j}_not_same_z')\n",
    "    nw_mod.addConstr(delta_ij[j, i] >= z[i] - z[j], f'constraint_delta_ij_x_{i}_{j}_not_same_z_2')\n"
   ]
  },
  {
   "cell_type": "code",
   "execution_count": 8,
   "id": "3d9dea29",
   "metadata": {
    "scrolled": true
   },
   "outputs": [
    {
     "name": "stdout",
     "output_type": "stream",
     "text": [
      "Gurobi Optimizer version 11.0.0 build v11.0.0rc2 (win64 - Windows 11+.0 (22631.2))\n",
      "\n",
      "CPU model: 11th Gen Intel(R) Core(TM) i5-1135G7 @ 2.40GHz, instruction set [SSE2|AVX|AVX2|AVX512]\n",
      "Thread count: 4 physical cores, 8 logical processors, using up to 8 threads\n",
      "\n",
      "Optimize a model with 232 rows, 208 columns and 702 nonzeros\n",
      "Model fingerprint: 0xd06803b0\n",
      "Variable types: 0 continuous, 208 integer (208 binary)\n",
      "Coefficient statistics:\n",
      "  Matrix range     [1e+00, 1e+00]\n",
      "  Objective range  [1e+01, 1e+01]\n",
      "  Bounds range     [1e+00, 1e+00]\n",
      "  RHS range        [1e+00, 2e+00]\n",
      "Presolved: 232 rows, 75 columns, 702 nonzeros\n",
      "\n",
      "Continuing optimization...\n",
      "\n",
      "\n",
      "Cutting planes:\n",
      "  Gomory: 4\n",
      "  MIR: 14\n",
      "  Zero half: 9\n",
      "  RLT: 14\n",
      "  BQP: 1\n",
      "\n",
      "Explored 1 nodes (145 simplex iterations) in 0.02 seconds (0.00 work units)\n",
      "Thread count was 8 (of 8 available processors)\n",
      "\n",
      "Solution count 5: 40 50 70 ... 90\n",
      "\n",
      "Optimal solution found (tolerance 1.00e-04)\n",
      "Best objective 4.000000000000e+01, best bound 4.000000000000e+01, gap 0.0000%\n",
      "Optimization is done. Objective function value: 40.00\n",
      "List of links cut:\n",
      "                      0\n",
      "delta_{i}_{j}[1,4]  1.0\n",
      "delta_{i}_{j}[3,6]  1.0\n",
      "delta_{i}_{j}[3,8]  1.0\n",
      "delta_{i}_{j}[4,1]  1.0\n",
      "delta_{i}_{j}[6,3]  1.0\n",
      "delta_{i}_{j}[6,9]  1.0\n",
      "delta_{i}_{j}[8,3]  1.0\n",
      "delta_{i}_{j}[9,6]  1.0\n",
      "Nodes in partition X:\n",
      "[0, 1, 2, 3]\n",
      "Nodes in partition Y:\n",
      "[8, 9, 10, 11, 12]\n",
      "Nodes in partition Z:\n",
      "[4, 5, 6, 7]\n"
     ]
    }
   ],
   "source": [
    "\n",
    "\n",
    "\n",
    "#nw_mod.setParam('OutputFlag',False)\n",
    "nw_mod.optimize()\n",
    "#nw_mod.computeIIS()\n",
    "print('Optimization is done. Objective function value: %.2f' % nw_mod.objVal)\n",
    "deltas={}\n",
    "x_arr={}\n",
    "y_arr={}\n",
    "z_arr={}\n",
    "\n",
    "for v in nw_mod.getVars():\n",
    "    if re.match('delta',v.varName) is not None and v.x!=0:\n",
    "        deltas[v.varName]=v.x\n",
    "    if re.match('x',v.varName) is not None:\n",
    "        x_arr[v.varName]=v.x\n",
    "    if re.match('y',v.varName) is not None:\n",
    "        y_arr[v.varName]=v.x\n",
    "    if re.match('z',v.varName) is not None:\n",
    "        z_arr[v.varName]=v.x\n",
    "dist=[]\n",
    "dist.append(x_arr)\n",
    "dist.append(y_arr)\n",
    "dist.append(z_arr)\n",
    "\n",
    "dfdelta=pd.DataFrame.from_dict(deltas,orient='index')\n",
    "#print(dfdist)\n",
    "print(\"List of links cut:\")\n",
    "print(dfdelta)\n",
    "\n",
    "tmpx=[]\n",
    "tmpy=[]\n",
    "tmpz=[]\n",
    "for i in x_arr:\n",
    "    \n",
    "    if x_arr[i]==1:\n",
    "        tmpx.append(list(x_arr).index(i))\n",
    "print(\"Nodes in partition X:\")\n",
    "print(tmpx)\n",
    "for i in y_arr:\n",
    "    \n",
    "    if y_arr[i]==1:\n",
    "        tmpy.append(list(y_arr).index(i))\n",
    "print(\"Nodes in partition Y:\")\n",
    "print(tmpy)\n",
    "for i in z_arr:\n",
    "    \n",
    "    if z_arr[i]==1:\n",
    "        tmpz.append(list(z_arr).index(i))\n",
    "print(\"Nodes in partition Z:\")\n",
    "print(tmpz)\n"
   ]
  },
  {
   "cell_type": "code",
   "execution_count": 6,
   "id": "d54f3dc2",
   "metadata": {},
   "outputs": [
    {
     "data": {
      "image/png": "[encoded data removed]",
      "text/plain": [
       "<Figure size 640x480 with 1 Axes>"
      ]
     },
     "metadata": {},
     "output_type": "display_data"
    }
   ],
   "source": [
    "\n",
    "edges_to_remove = []\n",
    "for i, j in V.edges():\n",
    "\n",
    "    if delta_ij[i, j].X == 1:\n",
    "        \n",
    "        edges_to_remove.append((i, j))\n",
    "\n",
    "for edge in edges_to_remove:\n",
    "    V.remove_edge(*edge)\n",
    "nx.draw_networkx(V, with_labels=True)"
   ]
  },
  {
   "cell_type": "code",
   "execution_count": null,
   "id": "d760adc6",
   "metadata": {},
   "outputs": [],
   "source": []
  },
  {
   "cell_type": "code",
   "execution_count": null,
   "id": "f48d0c73",
   "metadata": {},
   "outputs": [],
   "source": []
  },
  {
   "cell_type": "code",
   "execution_count": null,
   "id": "0040c757",
   "metadata": {},
   "outputs": [],
   "source": []
  },
  {
   "cell_type": "code",
   "execution_count": null,
   "id": "f5acd386",
   "metadata": {},
   "outputs": [],
   "source": []
  },
  {
   "cell_type": "code",
   "execution_count": null,
   "id": "4739dea3",
   "metadata": {},
   "outputs": [],
   "source": []
  }
 ],
 "metadata": {
  "kernelspec": {
   "display_name": "Python 3 (ipykernel)",
   "language": "python",
   "name": "python3"
  },
  "language_info": {
   "codemirror_mode": {
    "name": "ipython",
    "version": 3
   },
   "file_extension": ".py",
   "mimetype": "text/x-python",
   "name": "python",
   "nbconvert_exporter": "python",
   "pygments_lexer": "ipython3",
   "version": "3.10.9"
  }
 },
 "nbformat": 4,
 "nbformat_minor": 5
}
